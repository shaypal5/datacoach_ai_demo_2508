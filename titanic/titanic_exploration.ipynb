{
 "cells": [
  {
   "cell_type": "markdown",
   "metadata": {},
   "source": [
    "# Titanic Dataset Exploration\n",
    "\n",
    "This notebook explores the famous Titanic dataset from Kaggle to understand patterns in passenger survival."
   ]
  },
  {
   "cell_type": "markdown",
   "metadata": {},
   "source": [
    "## 1. Import Required Libraries"
   ]
  },
  {
   "cell_type": "code",
   "execution_count": null,
   "metadata": {},
   "outputs": [],
   "source": [
    "import pandas as pd\n",
    "import numpy as np\n",
    "import matplotlib.pyplot as plt\n",
    "import seaborn as sns\n",
    "\n",
    "# Set visualization style\n",
    "sns.set_style('whitegrid')\n",
    "plt.rcParams['figure.figsize'] = (10, 6)"
   ]
  },
  {
   "cell_type": "markdown",
   "metadata": {},
   "source": [
    "## 2. Load the Dataset\n",
    "\n",
    "Note: You'll need to download the Titanic dataset from Kaggle and place it in this directory."
   ]
  },
  {
   "cell_type": "code",
   "execution_count": null,
   "metadata": {},
   "outputs": [],
   "source": [
    "# Load the Titanic dataset\n",
    "# Replace 'titanic.csv' with your actual file path\n",
    "try:\n",
    "    df = pd.read_csv('titanic.csv')\n",
    "    print(\"Dataset loaded successfully!\")\n",
    "except FileNotFoundError:\n",
    "    print(\"Please download the Titanic dataset from Kaggle and save it as 'titanic.csv'\")\n",
    "    print(\"You can get it from: https://www.kaggle.com/c/titanic/data\")"
   ]
  },
  {
   "cell_type": "markdown",
   "metadata": {},
   "source": [
    "## 3. Basic Data Exploration"
   ]
  },
  {
   "cell_type": "code",
   "execution_count": null,
   "metadata": {},
   "outputs": [],
   "source": [
    "# Display first few rows\n",
    "df.head()"
   ]
  },
  {
   "cell_type": "code",
   "execution_count": null,
   "metadata": {},
   "outputs": [],
   "source": [
    "# Dataset shape\n",
    "print(f\"Dataset shape: {df.shape}\")\n",
    "print(f\"Number of passengers: {df.shape[0]}\")\n",
    "print(f\"Number of features: {df.shape[1]}\")"
   ]
  },
  {
   "cell_type": "code",
   "execution_count": null,
   "metadata": {},
   "outputs": [],
   "source": [
    "# Column information\n",
    "df.info()"
   ]
  },
  {
   "cell_type": "code",
   "execution_count": null,
   "metadata": {},
   "outputs": [],
   "source": [
    "# Statistical summary\n",
    "df.describe()"
   ]
  },
  {
   "cell_type": "code",
   "execution_count": null,
   "metadata": {},
   "outputs": [],
   "source": [
    "# Check for missing values\n",
    "missing_data = df.isnull().sum()\n",
    "missing_percent = (missing_data / len(df)) * 100\n",
    "missing_df = pd.DataFrame({\n",
    "    'Missing Count': missing_data,\n",
    "    'Percentage': missing_percent\n",
    "})\n",
    "print(\"Missing Data Summary:\")\n",
    "print(missing_df[missing_df['Missing Count'] > 0])"
   ]
  },
  {
   "cell_type": "markdown",
   "metadata": {},
   "source": [
    "## 4. Survival Analysis"
   ]
  },
  {
   "cell_type": "code",
   "execution_count": null,
   "metadata": {},
   "outputs": [],
   "source": [
    "# Overall survival rate\n",
    "if 'Survived' in df.columns:\n",
    "    survival_rate = df['Survived'].mean()\n",
    "    print(f\"Overall survival rate: {survival_rate:.2%}\")\n",
    "    \n",
    "    # Survival counts\n",
    "    plt.figure(figsize=(6, 4))\n",
    "    df['Survived'].value_counts().plot(kind='bar')\n",
    "    plt.title('Survival Distribution')\n",
    "    plt.xlabel('Survived (0 = No, 1 = Yes)')\n",
    "    plt.ylabel('Count')\n",
    "    plt.xticks(rotation=0)\n",
    "    plt.show()"
   ]
  },
  {
   "cell_type": "markdown",
   "metadata": {},
   "source": [
    "## 5. Feature Analysis"
   ]
  },
  {
   "cell_type": "code",
   "execution_count": null,
   "metadata": {},
   "outputs": [],
   "source": [
    "# Survival by Gender\n",
    "if 'Sex' in df.columns and 'Survived' in df.columns:\n",
    "    plt.figure(figsize=(8, 5))\n",
    "    sns.countplot(data=df, x='Sex', hue='Survived')\n",
    "    plt.title('Survival by Gender')\n",
    "    plt.show()\n",
    "    \n",
    "    # Survival rate by gender\n",
    "    print(\"\\nSurvival Rate by Gender:\")\n",
    "    print(df.groupby('Sex')['Survived'].mean())"
   ]
  },
  {
   "cell_type": "code",
   "execution_count": null,
   "metadata": {},
   "outputs": [],
   "source": [
    "# Survival by Passenger Class\n",
    "if 'Pclass' in df.columns and 'Survived' in df.columns:\n",
    "    plt.figure(figsize=(8, 5))\n",
    "    sns.countplot(data=df, x='Pclass', hue='Survived')\n",
    "    plt.title('Survival by Passenger Class')\n",
    "    plt.xlabel('Passenger Class')\n",
    "    plt.show()\n",
    "    \n",
    "    # Survival rate by class\n",
    "    print(\"\\nSurvival Rate by Class:\")\n",
    "    print(df.groupby('Pclass')['Survived'].mean())"
   ]
  },
  {
   "cell_type": "code",
   "execution_count": null,
   "metadata": {},
   "outputs": [],
   "source": [
    "# Age distribution\n",
    "if 'Age' in df.columns:\n",
    "    plt.figure(figsize=(10, 5))\n",
    "    \n",
    "    plt.subplot(1, 2, 1)\n",
    "    df['Age'].hist(bins=30, edgecolor='black')\n",
    "    plt.title('Age Distribution')\n",
    "    plt.xlabel('Age')\n",
    "    plt.ylabel('Count')\n",
    "    \n",
    "    if 'Survived' in df.columns:\n",
    "        plt.subplot(1, 2, 2)\n",
    "        df.boxplot(column='Age', by='Survived')\n",
    "        plt.title('Age Distribution by Survival')\n",
    "        plt.suptitle('')\n",
    "    \n",
    "    plt.tight_layout()\n",
    "    plt.show()"
   ]
  },
  {
   "cell_type": "code",
   "execution_count": null,
   "metadata": {},
   "outputs": [],
   "source": [
    "# Fare distribution\n",
    "if 'Fare' in df.columns:\n",
    "    plt.figure(figsize=(10, 5))\n",
    "    \n",
    "    plt.subplot(1, 2, 1)\n",
    "    df['Fare'].hist(bins=50, edgecolor='black')\n",
    "    plt.title('Fare Distribution')\n",
    "    plt.xlabel('Fare')\n",
    "    plt.ylabel('Count')\n",
    "    \n",
    "    if 'Survived' in df.columns:\n",
    "        plt.subplot(1, 2, 2)\n",
    "        df.boxplot(column='Fare', by='Survived')\n",
    "        plt.title('Fare Distribution by Survival')\n",
    "        plt.suptitle('')\n",
    "    \n",
    "    plt.tight_layout()\n",
    "    plt.show()"
   ]
  },
  {
   "cell_type": "markdown",
   "metadata": {},
   "source": [
    "## 6. Correlation Analysis"
   ]
  },
  {
   "cell_type": "code",
   "execution_count": null,
   "metadata": {},
   "outputs": [],
   "source": [
    "# Correlation heatmap for numerical features\n",
    "numerical_cols = df.select_dtypes(include=[np.number]).columns.tolist()\n",
    "if len(numerical_cols) > 1:\n",
    "    plt.figure(figsize=(10, 8))\n",
    "    correlation_matrix = df[numerical_cols].corr()\n",
    "    sns.heatmap(correlation_matrix, annot=True, cmap='coolwarm', center=0)\n",
    "    plt.title('Correlation Heatmap of Numerical Features')\n",
    "    plt.show()"
   ]
  },
  {
   "cell_type": "markdown",
   "metadata": {},
   "source": [
    "## 7. Family Size Analysis"
   ]
  },
  {
   "cell_type": "code",
   "execution_count": null,
   "metadata": {},
   "outputs": [],
   "source": [
    "# Create family size feature\n",
    "if 'SibSp' in df.columns and 'Parch' in df.columns:\n",
    "    df['FamilySize'] = df['SibSp'] + df['Parch'] + 1\n",
    "    \n",
    "    if 'Survived' in df.columns:\n",
    "        plt.figure(figsize=(10, 5))\n",
    "        family_survival = df.groupby('FamilySize')['Survived'].mean()\n",
    "        family_survival.plot(kind='bar')\n",
    "        plt.title('Survival Rate by Family Size')\n",
    "        plt.xlabel('Family Size')\n",
    "        plt.ylabel('Survival Rate')\n",
    "        plt.xticks(rotation=0)\n",
    "        plt.show()"
   ]
  },
  {
   "cell_type": "markdown",
   "metadata": {},
   "source": [
    "## 8. Port of Embarkation Analysis"
   ]
  },
  {
   "cell_type": "code",
   "execution_count": null,
   "metadata": {},
   "outputs": [],
   "source": [
    "# Embarkation port analysis\n",
    "if 'Embarked' in df.columns:\n",
    "    print(\"Port of Embarkation:\")\n",
    "    print(\"C = Cherbourg, Q = Queenstown, S = Southampton\")\n",
    "    print(\"\\nDistribution:\")\n",
    "    print(df['Embarked'].value_counts())\n",
    "    \n",
    "    if 'Survived' in df.columns:\n",
    "        plt.figure(figsize=(8, 5))\n",
    "        sns.countplot(data=df, x='Embarked', hue='Survived')\n",
    "        plt.title('Survival by Port of Embarkation')\n",
    "        plt.show()\n",
    "        \n",
    "        print(\"\\nSurvival Rate by Port:\")\n",
    "        print(df.groupby('Embarked')['Survived'].mean())"
   ]
  },
  {
   "cell_type": "markdown",
   "metadata": {},
   "source": [
    "## 9. Cabin Analysis"
   ]
  },
  {
   "cell_type": "code",
   "execution_count": null,
   "metadata": {},
   "outputs": [],
   "source": [
    "# Cabin information\n",
    "if 'Cabin' in df.columns:\n",
    "    # Check if passenger had cabin information\n",
    "    df['HasCabin'] = df['Cabin'].notna().astype(int)\n",
    "    \n",
    "    print(f\"Passengers with cabin info: {df['HasCabin'].sum()} ({df['HasCabin'].mean():.2%})\")\n",
    "    \n",
    "    if 'Survived' in df.columns:\n",
    "        print(\"\\nSurvival rate by cabin availability:\")\n",
    "        print(df.groupby('HasCabin')['Survived'].mean())"
   ]
  },
  {
   "cell_type": "markdown",
   "metadata": {},
   "source": [
    "## 10. Summary Statistics"
   ]
  },
  {
   "cell_type": "code",
   "execution_count": null,
   "metadata": {},
   "outputs": [],
   "source": [
    "# Create a summary of key insights\n",
    "if 'Survived' in df.columns:\n",
    "    print(\"=== KEY INSIGHTS ===\")\n",
    "    print(f\"\\n1. Overall survival rate: {df['Survived'].mean():.2%}\")\n",
    "    \n",
    "    if 'Sex' in df.columns:\n",
    "        female_survival = df[df['Sex'] == 'female']['Survived'].mean()\n",
    "        male_survival = df[df['Sex'] == 'male']['Survived'].mean()\n",
    "        print(f\"\\n2. Gender impact:\")\n",
    "        print(f\"   - Female survival rate: {female_survival:.2%}\")\n",
    "        print(f\"   - Male survival rate: {male_survival:.2%}\")\n",
    "    \n",
    "    if 'Pclass' in df.columns:\n",
    "        print(f\"\\n3. Class impact:\")\n",
    "        for pclass in sorted(df['Pclass'].unique()):\n",
    "            class_survival = df[df['Pclass'] == pclass]['Survived'].mean()\n",
    "            print(f\"   - Class {pclass} survival rate: {class_survival:.2%}\")\n",
    "    \n",
    "    if 'Age' in df.columns:\n",
    "        children = df[df['Age'] < 18]['Survived'].mean()\n",
    "        adults = df[df['Age'] >= 18]['Survived'].mean()\n",
    "        print(f\"\\n4. Age impact:\")\n",
    "        print(f\"   - Children (<18) survival rate: {children:.2%}\")\n",
    "        print(f\"   - Adults (>=18) survival rate: {adults:.2%}\")"
   ]
  }
 ],
 "metadata": {
  "kernelspec": {
   "display_name": "Python 3",
   "language": "python",
   "name": "python3"
  },
  "language_info": {
   "codemirror_mode": {
    "name": "ipython",
    "version": 3
   },
   "file_extension": ".py",
   "mimetype": "text/x-python",
   "name": "python",
   "nbconvert_exporter": "python",
   "pygments_lexer": "ipython3",
   "version": "3.8.0"
  }
 },
 "nbformat": 4,
 "nbformat_minor": 4
}